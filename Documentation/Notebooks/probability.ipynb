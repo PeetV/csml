{
 "cells": [
  {
   "cell_type": "code",
   "execution_count": 1,
   "metadata": {
    "dotnet_interactive": {
     "language": "csharp"
    },
    "polyglot_notebook": {
     "language": "csharp"
    },
    "vscode": {
     "languageId": "dotnet-interactive.csharp"
    }
   },
   "outputs": [
    {
     "data": {
      "text/html": [
       "<div><div><strong>Restore sources</strong><ul><li><span>/Users/peet/Sources/csml/CsML/bin/Release</span></li></ul></div><div></div><div><strong>Installed Packages</strong><ul><li><span>CsML, 1.0.0</span></li></ul></div></div>"
      ]
     },
     "metadata": {},
     "output_type": "display_data"
    }
   ],
   "source": [
    "#i \"nuget:/Users/peet/Sources/csml/CsML/bin/Release\"\n",
    "#r \"nuget:CsML,*-*\"\n",
    "using CsML;"
   ]
  },
  {
   "cell_type": "code",
   "execution_count": 2,
   "metadata": {
    "dotnet_interactive": {
     "language": "csharp"
    },
    "vscode": {
     "languageId": "dotnet-interactive.csharp"
    }
   },
   "outputs": [
    {
     "data": {
      "text/html": [
       "<div><div><strong>Restore sources</strong><ul><li><span>/Users/peet/Sources/csml/CsML/bin/Release</span></li></ul></div><div></div><div><strong>Installed Packages</strong><ul><li><span>Plotly.NET.CSharp, 0.8.0</span></li></ul></div></div>"
      ]
     },
     "metadata": {},
     "output_type": "display_data"
    }
   ],
   "source": [
    "#r \"nuget: Plotly.NET.CSharp,*-*\"\n",
    "using Plotly.NET.CSharp;"
   ]
  },
  {
   "cell_type": "markdown",
   "metadata": {},
   "source": [
    "### The Cookie Problem\n",
    "\n",
    "See [Think Bayes](https://colab.research.google.com/github/AllenDowney/ThinkBayes2/blob/master/notebooks/chap02.ipynb)."
   ]
  },
  {
   "cell_type": "code",
   "execution_count": 3,
   "metadata": {
    "dotnet_interactive": {
     "language": "csharp"
    },
    "vscode": {
     "languageId": "dotnet-interactive.csharp"
    }
   },
   "outputs": [
    {
     "data": {
      "text/html": [
       "<table><thead><tr><th><i>index</i></th><th>Item1</th><th>Item2</th></tr></thead><tbody><tr><td>0</td><td>bowl 1</td><td><div class=\"dni-plaintext\">0.6</div></td></tr><tr><td>1</td><td>bowl2</td><td><div class=\"dni-plaintext\">0.4</div></td></tr></tbody></table>"
      ]
     },
     "metadata": {},
     "output_type": "display_data"
    }
   ],
   "source": [
    "var bowls = new CsML.Probability.Distributions\n",
    "                        .ProbabilityMassFunction<string>(\n",
    "    new string[]{\"bowl 1\", \"bowl2\"});\n",
    "bowls.Update(new double[]{0.75, 0.5});\n",
    "bowls.Normalise();\n",
    "bowls.zipped"
   ]
  },
  {
   "cell_type": "code",
   "execution_count": 4,
   "metadata": {
    "dotnet_interactive": {
     "language": "csharp"
    },
    "vscode": {
     "languageId": "dotnet-interactive.csharp"
    }
   },
   "outputs": [
    {
     "data": {
      "text/html": [
       "<table><thead><tr><th><i>index</i></th><th>Item1</th><th>Item2</th></tr></thead><tbody><tr><td>0</td><td>bowl 1</td><td><div class=\"dni-plaintext\">0.5294117647058824</div></td></tr><tr><td>1</td><td>bowl2</td><td><div class=\"dni-plaintext\">0.4705882352941177</div></td></tr></tbody></table>"
      ]
     },
     "metadata": {},
     "output_type": "display_data"
    }
   ],
   "source": [
    "bowls.Update(new double[]{0.75, 0.5});\n",
    "bowls.Update(new double[]{0.25, 0.5});\n",
    "bowls.Normalise();\n",
    "bowls.zipped"
   ]
  },
  {
   "cell_type": "code",
   "execution_count": 5,
   "metadata": {
    "dotnet_interactive": {
     "language": "csharp"
    },
    "vscode": {
     "languageId": "dotnet-interactive.csharp"
    }
   },
   "outputs": [
    {
     "data": {
      "text/html": [
       "<div class=\"dni-plaintext\">0.009900990099009901</div>"
      ]
     },
     "metadata": {},
     "output_type": "display_data"
    }
   ],
   "source": [
    "var bowls100 = new CsML.Probability.Distributions\n",
    "                        .ProbabilityMassFunction<int>(\n",
    "    Enumerable.Range(1, 101).ToArray()\n",
    ");\n",
    "bowls100[1]"
   ]
  },
  {
   "cell_type": "code",
   "execution_count": 6,
   "metadata": {
    "dotnet_interactive": {
     "language": "csharp"
    },
    "vscode": {
     "languageId": "dotnet-interactive.csharp"
    }
   },
   "outputs": [],
   "source": [
    "double[] likelihoodVanilla = bowls100.hypotheses.Select(x => (double)x / 100.0).ToArray();\n",
    "double[] likelihoodChocolote = bowls100.hypotheses.Select(x => 1.0 - (double)x / 100.0).ToArray();\n",
    "bowls100.Update(likelihoodVanilla);\n",
    "bowls100.Update(likelihoodVanilla);\n",
    "bowls100.Update(likelihoodChocolote);\n",
    "bowls100.Normalise();\n",
    "Chart.Line<int, double, string>(\n",
    "    x: bowls100.hypotheses, \n",
    "    y: bowls100.probabilities\n",
    ")\n",
    ".WithXAxisStyle<double, double, string>(Title: Plotly.NET.Title.init(\"Bowl\"))\n",
    ".WithYAxisStyle<double, double, string>(Title: Plotly.NET.Title.init(\"Probability\"))\n",
    ".Show();"
   ]
  },
  {
   "cell_type": "code",
   "execution_count": 7,
   "metadata": {
    "dotnet_interactive": {
     "language": "csharp"
    },
    "vscode": {
     "languageId": "dotnet-interactive.csharp"
    }
   },
   "outputs": [
    {
     "data": {
      "text/html": [
       "<table><thead><tr><th>Item1</th><th>Item2</th></tr></thead><tbody><tr><td><div class=\"dni-plaintext\">67</div></td><td><div class=\"dni-plaintext\">0.017800009348378366</div></td></tr></tbody></table>"
      ]
     },
     "metadata": {},
     "output_type": "display_data"
    }
   ],
   "source": [
    "bowls100.Max()"
   ]
  },
  {
   "cell_type": "code",
   "execution_count": 8,
   "metadata": {
    "dotnet_interactive": {
     "language": "csharp"
    },
    "vscode": {
     "languageId": "dotnet-interactive.csharp"
    }
   },
   "outputs": [
    {
     "data": {
      "text/html": [
       "<div class=\"dni-plaintext\">0.9408457927310708</div>"
      ]
     },
     "metadata": {},
     "output_type": "display_data"
    }
   ],
   "source": [
    "bowls100.SumProbabilities(10, 90)"
   ]
  }
 ],
 "metadata": {
  "kernelspec": {
   "display_name": ".NET (C#)",
   "language": "C#",
   "name": ".net-csharp"
  },
  "language_info": {
   "name": "C#"
  }
 },
 "nbformat": 4,
 "nbformat_minor": 2
}
