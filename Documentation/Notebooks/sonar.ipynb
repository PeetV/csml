{
 "cells": [
  {
   "cell_type": "code",
   "execution_count": 1,
   "metadata": {
    "dotnet_interactive": {
     "language": "csharp"
    },
    "polyglot_notebook": {
     "language": "csharp"
    },
    "vscode": {
     "languageId": "dotnet-interactive.csharp"
    }
   },
   "outputs": [
    {
     "data": {
      "text/html": [
       "<div><div><strong>Restore sources</strong><ul><li><span>/Users/peet/Sources/csml/CsML/bin/Release</span></li></ul></div><div></div><div><strong>Installed Packages</strong><ul><li><span>CsML, 1.0.0</span></li></ul></div></div>"
      ]
     },
     "metadata": {},
     "output_type": "display_data"
    }
   ],
   "source": [
    "#i \"nuget:/Users/peet/Sources/csml/CsML/bin/Release\"\n",
    "// #i \"nuget:C:\\Users\\peet.vermeulen\\source\\repos\\csml\\CsML\\bin\\Release\"\n",
    "#r \"nuget:CsML,*-*\"\n",
    "using CsML;"
   ]
  },
  {
   "cell_type": "code",
   "execution_count": 3,
   "metadata": {
    "dotnet_interactive": {
     "language": "csharp"
    },
    "vscode": {
     "languageId": "dotnet-interactive.csharp"
    }
   },
   "outputs": [],
   "source": [
    "var mapping = new Dictionary<int, Dictionary<string, double>>();\n",
    "mapping[60] = new Dictionary<string, double>{ { \"R\", 0 }, {\"M\", 1 }};\n",
    "var inputPath = \"/Users/peet/Sources/csml/Tests/Data/sonar.csv\";\n",
    "// inputPath = @\"C:\\Users\\peet.vermeulen\\source\\repos\\csml\\Tests\\Data\\sonar.csv\";\n",
    "var data = CsML.Utility.Matrix.FromCSV(inputPath, mapping, loadFromRow: 0);"
   ]
  },
  {
   "cell_type": "code",
   "execution_count": 4,
   "metadata": {
    "dotnet_interactive": {
     "language": "csharp"
    },
    "vscode": {
     "languageId": "dotnet-interactive.csharp"
    }
   },
   "outputs": [],
   "source": [
    "var dataLength = data.GetLength(0);\n",
    "var features = new double[dataLength, 59];\n",
    "var target = new double[dataLength];\n",
    "for (int r=0; r < data.GetLength(0); r++)\n",
    "{\n",
    "    for (int c=0; c < 59; c++)\n",
    "    {\n",
    "        features[r, c] = data[r, c];\n",
    "    }\n",
    "    target[r] = data[r, 60];\n",
    "}"
   ]
  },
  {
   "cell_type": "code",
   "execution_count": 5,
   "metadata": {
    "dotnet_interactive": {
     "language": "csharp"
    },
    "vscode": {
     "languageId": "dotnet-interactive.csharp"
    }
   },
   "outputs": [
    {
     "data": {
      "text/html": [
       "<div class=\"dni-plaintext\">True</div>"
      ]
     },
     "metadata": {},
     "output_type": "display_data"
    }
   ],
   "source": [
    "var profiler = new CsML.Utility.Features.Profiler(features, target);\n",
    "profiler.HasOutliers(features)"
   ]
  },
  {
   "cell_type": "code",
   "execution_count": 6,
   "metadata": {
    "dotnet_interactive": {
     "language": "csharp"
    },
    "vscode": {
     "languageId": "dotnet-interactive.csharp"
    }
   },
   "outputs": [
    {
     "data": {
      "text/html": [
       "<table><thead><tr><th><i>index</i></th><th>Item1</th><th>Item2</th><th>Item3</th></tr></thead><tbody><tr><td>0</td><td><div class=\"dni-plaintext\">0</div></td><td><div class=\"dni-plaintext\">97</div></td><td><div class=\"dni-plaintext\">0.46634615384615385</div></td></tr><tr><td>1</td><td><div class=\"dni-plaintext\">1</div></td><td><div class=\"dni-plaintext\">111</div></td><td><div class=\"dni-plaintext\">0.5336538461538461</div></td></tr></tbody></table>"
      ]
     },
     "metadata": {},
     "output_type": "display_data"
    }
   ],
   "source": [
    "CsML.Utility.Features.ClassProportions<double>(target)"
   ]
  },
  {
   "cell_type": "code",
   "execution_count": null,
   "metadata": {
    "dotnet_interactive": {
     "language": "csharp"
    },
    "vscode": {
     "languageId": "dotnet-interactive.csharp"
    }
   },
   "outputs": [],
   "source": [
    "(features, target) = CsML.Utility.Features.Shuffle(features, target);"
   ]
  },
  {
   "cell_type": "code",
   "execution_count": 7,
   "metadata": {
    "dotnet_interactive": {
     "language": "csharp"
    },
    "vscode": {
     "languageId": "dotnet-interactive.csharp"
    }
   },
   "outputs": [
    {
     "name": "stdout",
     "output_type": "stream",
     "text": [
      "..........\n",
      "0.4, 0.5, 0.6, 0.75, 0.45, 0.5, 0.4, 0.45, 0.6, 0.35\n",
      "Average 0.4999999999999999\n"
     ]
    }
   ],
   "source": [
    "var results = new List<double>(){};\n",
    "var iter = new CsML.Utility.KFoldIterator(dataLength, 10);\n",
    "double[,] ftrain, ftest;\n",
    "double[] ttrain, ttest;\n",
    "foreach(bool[] f in iter)\n",
    "{    \n",
    "\n",
    "    Console.Write(\".\");\n",
    "    (ftrain, ftest) = CsML.Utility.Matrix.Split(features, f);\n",
    "    (ttrain, ttest) = CsML.Utility.Array.Split(target, f);\n",
    "    var rcfier = new CsML.Probability.Classification.RandomClassifier<double>();\n",
    "    rcfier.Train(ftrain, ttrain);\n",
    "    double[] predictions = rcfier.Predict(ftest);\n",
    "    results.Add(CsML.Utility.Array.ClassificationAccuracy(ttest, predictions));\n",
    "}\n",
    "var mean = results.Average();\n",
    "results = results.Select(x => Math.Round(x, 4)).ToList();\n",
    "Console.WriteLine(\"\");\n",
    "Console.WriteLine(string.Join(\", \", results.ToArray()));\n",
    "Console.WriteLine($\"Average {mean}\");"
   ]
  },
  {
   "cell_type": "code",
   "execution_count": 8,
   "metadata": {
    "dotnet_interactive": {
     "language": "csharp"
    },
    "vscode": {
     "languageId": "dotnet-interactive.csharp"
    }
   },
   "outputs": [
    {
     "name": "stdout",
     "output_type": "stream",
     "text": [
      "..........\n",
      "0.95, 0.55, 0.75, 0.55, 0.75, 0.6, 0.65, 0.55, 0.75, 0.8\n",
      "Average 0.69\n"
     ]
    }
   ],
   "source": [
    "results = new List<double>(){};\n",
    "iter = new CsML.Utility.KFoldIterator(dataLength, 10);\n",
    "foreach(bool[] f in iter)\n",
    "{\n",
    "    Console.Write(\".\");\n",
    "    (ftrain, ftest) = CsML.Utility.Matrix.Split(features, f);\n",
    "    (ttrain, ttest) = CsML.Utility.Array.Split(target, f);\n",
    "    var tree = new CsML.Tree.BinaryTree(\"classify\", CsML.Utility.Statistics.Gini);\n",
    "    tree.maxdepth = 15;\n",
    "    tree.minrows = 3;\n",
    "    tree.Train(ftrain, ttrain);\n",
    "    double[] predictions = tree.Predict(ftest);\n",
    "    results.Add(CsML.Utility.Array.ClassificationAccuracy(ttest, predictions));\n",
    "}\n",
    "var mean = results.Average();\n",
    "results = results.Select(x => Math.Round(x, 4)).ToList();\n",
    "Console.WriteLine(\"\");\n",
    "Console.WriteLine(string.Join(\", \", results.ToArray()));\n",
    "Console.WriteLine($\"Average {mean}\");"
   ]
  },
  {
   "cell_type": "code",
   "execution_count": 9,
   "metadata": {
    "dotnet_interactive": {
     "language": "csharp"
    },
    "vscode": {
     "languageId": "dotnet-interactive.csharp"
    }
   },
   "outputs": [
    {
     "name": "stdout",
     "output_type": "stream",
     "text": [
      "..........\n",
      "0.95, 0.85, 0.9, 0.8, 0.75, 0.75, 0.8, 0.7, 0.75, 0.95\n",
      "Average 0.82\n"
     ]
    }
   ],
   "source": [
    "results = new List<double>(){};\n",
    "iter = new CsML.Utility.KFoldIterator(dataLength, 10);\n",
    "foreach(bool[] f in iter)\n",
    "{\n",
    "    Console.Write(\".\");\n",
    "    (ftrain, ftest) = CsML.Utility.Matrix.Split(features, f);\n",
    "    (ttrain, ttest) = CsML.Utility.Array.Split(target, f);\n",
    "    var forest = new CsML.Tree.RandomForest(\"classify\", CsML.Utility.Statistics.Gini);\n",
    "    forest.treeCount = 500;\n",
    "    forest.Train(ftrain, ttrain);\n",
    "    double[] predictions = forest.Predict(ftest);\n",
    "    results.Add(CsML.Utility.Array.ClassificationAccuracy(ttest, predictions));\n",
    "}\n",
    "var mean = results.Average();\n",
    "results = results.Select(x => Math.Round(x, 4)).ToList();\n",
    "Console.WriteLine(\"\");\n",
    "Console.WriteLine(string.Join(\", \", results.ToArray()));\n",
    "Console.WriteLine($\"Average {mean}\");"
   ]
  }
 ],
 "metadata": {
  "kernelspec": {
   "display_name": ".NET (C#)",
   "language": "C#",
   "name": ".net-csharp"
  },
  "language_info": {
   "name": "C#"
  }
 },
 "nbformat": 4,
 "nbformat_minor": 2
}
