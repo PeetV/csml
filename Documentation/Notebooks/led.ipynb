{
 "cells": [
  {
   "cell_type": "code",
   "execution_count": 1,
   "metadata": {
    "dotnet_interactive": {
     "language": "csharp"
    },
    "polyglot_notebook": {
     "language": "csharp"
    },
    "vscode": {
     "languageId": "dotnet-interactive.csharp"
    }
   },
   "outputs": [
    {
     "data": {
      "text/html": [
       "<div><div><strong>Restore sources</strong><ul><li><span>/Users/peet/Sources/csml/CsML/bin/Release</span></li></ul></div><div></div><div><strong>Installed Packages</strong><ul><li><span>CsML, 1.0.0</span></li></ul></div></div>"
      ]
     },
     "metadata": {},
     "output_type": "display_data"
    }
   ],
   "source": [
    "#i \"nuget:/Users/peet/Sources/csml/CsML/bin/Release\"\n",
    "// #i \"nuget:C:\\Users\\peet.vermeulen\\source\\repos\\csml\\CsML\\bin\\Release\"\n",
    "#r \"nuget:CsML,*-*\"\n",
    "using CsML;"
   ]
  },
  {
   "cell_type": "code",
   "execution_count": 3,
   "metadata": {
    "dotnet_interactive": {
     "language": "csharp"
    },
    "vscode": {
     "languageId": "dotnet-interactive.csharp"
    }
   },
   "outputs": [],
   "source": [
    "var inputPath = \"/Users/peet/Sources/csml/Tests/Data/led7.csv\";\n",
    "// inputPath = @\"C:\\Users\\peet.vermeulen\\source\\repos\\csml\\Tests\\Data\\led7.csv\";\n",
    "var data = CsML.Utility.Matrix.FromCSV(inputPath, null, loadFromRow: 1);"
   ]
  },
  {
   "cell_type": "code",
   "execution_count": 4,
   "metadata": {
    "dotnet_interactive": {
     "language": "csharp"
    },
    "vscode": {
     "languageId": "dotnet-interactive.csharp"
    }
   },
   "outputs": [],
   "source": [
    "var dataLength = data.GetLength(0);\n",
    "var features = new double[dataLength, 7];\n",
    "var target = new double[dataLength];\n",
    "for (int r=0; r < data.GetLength(0); r++)\n",
    "{\n",
    "    for (int c=0; c < 7; c++)\n",
    "    {\n",
    "        features[r, c] = data[r, c];\n",
    "    }\n",
    "    target[r] = data[r, 7];\n",
    "}"
   ]
  },
  {
   "cell_type": "code",
   "execution_count": 6,
   "metadata": {
    "dotnet_interactive": {
     "language": "csharp"
    },
    "vscode": {
     "languageId": "dotnet-interactive.csharp"
    }
   },
   "outputs": [
    {
     "data": {
      "text/html": [
       "<div class=\"dni-plaintext\">True</div>"
      ]
     },
     "metadata": {},
     "output_type": "display_data"
    }
   ],
   "source": [
    "var profiler = new CsML.Utility.Features.Profiler(features, target);\n",
    "profiler.HasOutliers(features)"
   ]
  },
  {
   "cell_type": "code",
   "execution_count": 8,
   "metadata": {
    "dotnet_interactive": {
     "language": "csharp"
    },
    "vscode": {
     "languageId": "dotnet-interactive.csharp"
    }
   },
   "outputs": [
    {
     "data": {
      "text/html": [
       "<table><thead><tr><th><i>index</i></th><th>Item1</th><th>Item2</th><th>Item3</th></tr></thead><tbody><tr><td>0</td><td><div class=\"dni-plaintext\">0</div></td><td><div class=\"dni-plaintext\">325</div></td><td><div class=\"dni-plaintext\">0.1015625</div></td></tr><tr><td>1</td><td><div class=\"dni-plaintext\">1</div></td><td><div class=\"dni-plaintext\">333</div></td><td><div class=\"dni-plaintext\">0.1040625</div></td></tr><tr><td>2</td><td><div class=\"dni-plaintext\">2</div></td><td><div class=\"dni-plaintext\">319</div></td><td><div class=\"dni-plaintext\">0.0996875</div></td></tr><tr><td>3</td><td><div class=\"dni-plaintext\">3</div></td><td><div class=\"dni-plaintext\">270</div></td><td><div class=\"dni-plaintext\">0.084375</div></td></tr><tr><td>4</td><td><div class=\"dni-plaintext\">4</div></td><td><div class=\"dni-plaintext\">336</div></td><td><div class=\"dni-plaintext\">0.105</div></td></tr><tr><td>5</td><td><div class=\"dni-plaintext\">5</div></td><td><div class=\"dni-plaintext\">335</div></td><td><div class=\"dni-plaintext\">0.1046875</div></td></tr><tr><td>6</td><td><div class=\"dni-plaintext\">6</div></td><td><div class=\"dni-plaintext\">341</div></td><td><div class=\"dni-plaintext\">0.1065625</div></td></tr><tr><td>7</td><td><div class=\"dni-plaintext\">7</div></td><td><div class=\"dni-plaintext\">304</div></td><td><div class=\"dni-plaintext\">0.095</div></td></tr><tr><td>8</td><td><div class=\"dni-plaintext\">8</div></td><td><div class=\"dni-plaintext\">327</div></td><td><div class=\"dni-plaintext\">0.1021875</div></td></tr><tr><td>9</td><td><div class=\"dni-plaintext\">9</div></td><td><div class=\"dni-plaintext\">310</div></td><td><div class=\"dni-plaintext\">0.096875</div></td></tr></tbody></table>"
      ]
     },
     "metadata": {},
     "output_type": "display_data"
    }
   ],
   "source": [
    "(features, target) = CsML.Utility.Features.Shuffle(features, target);\n",
    "CsML.Utility.Features.ClassProportions<double>(target)"
   ]
  },
  {
   "cell_type": "code",
   "execution_count": 11,
   "metadata": {
    "dotnet_interactive": {
     "language": "csharp"
    },
    "vscode": {
     "languageId": "dotnet-interactive.csharp"
    }
   },
   "outputs": [
    {
     "name": "stdout",
     "output_type": "stream",
     "text": [
      "..........\n",
      "0.1031, 0.0719, 0.1125, 0.075, 0.0906, 0.1125, 0.0844, 0.1188, 0.1125, 0.1\n",
      "Average 0.098125\n"
     ]
    }
   ],
   "source": [
    "var results = new List<double>(){};\n",
    "var iter = new CsML.Utility.KFoldIterator(dataLength, 10);\n",
    "double[,] ftrain, ftest;\n",
    "double[] ttrain, ttest;\n",
    "foreach(bool[] f in iter)\n",
    "{    \n",
    "\n",
    "    Console.Write(\".\");\n",
    "    (ftrain, ftest) = CsML.Utility.Matrix.Split(features, f);\n",
    "    (ttrain, ttest) = CsML.Utility.Array.Split(target, f);\n",
    "    var rcfier = new CsML.Probability.Classification.RandomClassifier<double>();\n",
    "    rcfier.Train(ftrain, ttrain);\n",
    "    double[] predictions = rcfier.Predict(ftest);\n",
    "    results.Add(CsML.Utility.Array.ClassificationAccuracy(ttest, predictions));\n",
    "}\n",
    "var mean = results.Average();\n",
    "results = results.Select(x => Math.Round(x, 4)).ToList();\n",
    "Console.WriteLine(\"\");\n",
    "Console.WriteLine(string.Join(\", \", results.ToArray()));\n",
    "Console.WriteLine($\"Average {mean}\");"
   ]
  },
  {
   "cell_type": "code",
   "execution_count": 12,
   "metadata": {
    "dotnet_interactive": {
     "language": "csharp"
    },
    "vscode": {
     "languageId": "dotnet-interactive.csharp"
    }
   },
   "outputs": [
    {
     "name": "stdout",
     "output_type": "stream",
     "text": [
      "..........\n",
      "0.7375, 0.7125, 0.7594, 0.6969, 0.7344, 0.6938, 0.7219, 0.75, 0.725, 0.7625\n",
      "Average 0.7293749999999999\n"
     ]
    }
   ],
   "source": [
    "results = new List<double>(){};\n",
    "iter = new CsML.Utility.KFoldIterator(dataLength, 10);\n",
    "foreach(bool[] f in iter)\n",
    "{\n",
    "    Console.Write(\".\");\n",
    "    (ftrain, ftest) = CsML.Utility.Matrix.Split(features, f);\n",
    "    (ttrain, ttest) = CsML.Utility.Array.Split(target, f);\n",
    "    var tree = new CsML.Tree.BinaryTree(\"classify\", CsML.Utility.Statistics.Gini);\n",
    "    tree.maxdepth = 15;\n",
    "    tree.minrows = 3;\n",
    "    tree.Train(ftrain, ttrain);\n",
    "    double[] predictions = tree.Predict(ftest);\n",
    "    results.Add(CsML.Utility.Array.ClassificationAccuracy(ttest, predictions));\n",
    "}\n",
    "var mean = results.Average();\n",
    "results = results.Select(x => Math.Round(x, 4)).ToList();\n",
    "Console.WriteLine(\"\");\n",
    "Console.WriteLine(string.Join(\", \", results.ToArray()));\n",
    "Console.WriteLine($\"Average {mean}\");"
   ]
  },
  {
   "cell_type": "code",
   "execution_count": 13,
   "metadata": {
    "dotnet_interactive": {
     "language": "csharp"
    },
    "vscode": {
     "languageId": "dotnet-interactive.csharp"
    }
   },
   "outputs": [
    {
     "name": "stdout",
     "output_type": "stream",
     "text": [
      "..........\n",
      "0.7469, 0.6969, 0.7625, 0.7125, 0.7438, 0.7062, 0.7344, 0.75, 0.7344, 0.7844\n",
      "Average 0.7371874999999999\n"
     ]
    }
   ],
   "source": [
    "results = new List<double>(){};\n",
    "iter = new CsML.Utility.KFoldIterator(dataLength, 10);\n",
    "foreach(bool[] f in iter)\n",
    "{\n",
    "    Console.Write(\".\");\n",
    "    (ftrain, ftest) = CsML.Utility.Matrix.Split(features, f);\n",
    "    (ttrain, ttest) = CsML.Utility.Array.Split(target, f);\n",
    "    var forest = new CsML.Tree.RandomForest(\"classify\", CsML.Utility.Statistics.Gini);\n",
    "    forest.treeCount = 500;\n",
    "    forest.Train(ftrain, ttrain);\n",
    "    double[] predictions = forest.Predict(ftest);\n",
    "    results.Add(CsML.Utility.Array.ClassificationAccuracy(ttest, predictions));\n",
    "}\n",
    "var mean = results.Average();\n",
    "results = results.Select(x => Math.Round(x, 4)).ToList();\n",
    "Console.WriteLine(\"\");\n",
    "Console.WriteLine(string.Join(\", \", results.ToArray()));\n",
    "Console.WriteLine($\"Average {mean}\");"
   ]
  }
 ],
 "metadata": {
  "kernelspec": {
   "display_name": ".NET (C#)",
   "language": "C#",
   "name": ".net-csharp"
  },
  "language_info": {
   "name": "C#"
  }
 },
 "nbformat": 4,
 "nbformat_minor": 2
}
