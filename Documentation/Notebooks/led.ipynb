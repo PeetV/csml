{
 "cells": [
  {
   "cell_type": "code",
   "execution_count": 1,
   "metadata": {
    "dotnet_interactive": {
     "language": "csharp"
    },
    "polyglot_notebook": {
     "language": "csharp"
    }
   },
   "outputs": [
    {
     "data": {
      "text/html": [
       "<div><div><strong>Restore sources</strong><ul><li><span>/Users/peet/Sources/csml/CsML/bin/Release</span></li></ul></div><div></div><div><strong>Installed Packages</strong><ul><li><span>CsML, 1.0.0</span></li></ul></div></div>"
      ]
     },
     "metadata": {},
     "output_type": "display_data"
    }
   ],
   "source": [
    "#i \"nuget:/Users/peet/Sources/csml/CsML/bin/Release\"\n",
    "// #i \"nuget:C:\\Users\\peet.vermeulen\\source\\repos\\csml\\CsML\\bin\\Release\"\n",
    "#r \"nuget:CsML,*-*\"\n",
    "using CsML;"
   ]
  },
  {
   "cell_type": "code",
   "execution_count": 2,
   "metadata": {
    "dotnet_interactive": {
     "language": "csharp"
    }
   },
   "outputs": [],
   "source": [
    "var inputPath = \"/Users/peet/Sources/csml/Tests/Data/led7.csv\";\n",
    "// inputPath = @\"C:\\Users\\peet.vermeulen\\source\\repos\\csml\\Tests\\Data\\led7.csv\";\n",
    "var data = CsML.Utility.Matrix.FromCSV(inputPath, null, loadFromRow: 1);"
   ]
  },
  {
   "cell_type": "code",
   "execution_count": 3,
   "metadata": {
    "dotnet_interactive": {
     "language": "csharp"
    }
   },
   "outputs": [],
   "source": [
    "var dataLength = data.GetLength(0);\n",
    "var features = new double[dataLength, 7];\n",
    "var target = new double[dataLength];\n",
    "for (int r=0; r < data.GetLength(0); r++)\n",
    "{\n",
    "    for (int c=0; c < 7; c++)\n",
    "    {\n",
    "        features[r, c] = data[r, c];\n",
    "    }\n",
    "    target[r] = data[r, 7];\n",
    "}"
   ]
  },
  {
   "cell_type": "code",
   "execution_count": 4,
   "metadata": {
    "dotnet_interactive": {
     "language": "csharp"
    }
   },
   "outputs": [
    {
     "data": {
      "text/html": [
       "<div class=\"dni-plaintext\"><pre>True</pre></div><style>\r\n",
       ".dni-code-hint {\r\n",
       "    font-style: italic;\r\n",
       "    overflow: hidden;\r\n",
       "    white-space: nowrap;\r\n",
       "}\r\n",
       ".dni-treeview {\r\n",
       "    white-space: nowrap;\r\n",
       "}\r\n",
       ".dni-treeview td {\r\n",
       "    vertical-align: top;\r\n",
       "    text-align: start;\r\n",
       "}\r\n",
       "details.dni-treeview {\r\n",
       "    padding-left: 1em;\r\n",
       "}\r\n",
       "table td {\r\n",
       "    text-align: start;\r\n",
       "}\r\n",
       "table tr { \r\n",
       "    vertical-align: top; \r\n",
       "    margin: 0em 0px;\r\n",
       "}\r\n",
       "table tr td pre \r\n",
       "{ \r\n",
       "    vertical-align: top !important; \r\n",
       "    margin: 0em 0px !important;\r\n",
       "} \r\n",
       "table th {\r\n",
       "    text-align: start;\r\n",
       "}\r\n",
       "</style>"
      ]
     },
     "metadata": {},
     "output_type": "display_data"
    }
   ],
   "source": [
    "var profiler = new CsML.Utility.Features.Profiler(features, target);\n",
    "profiler.HasOutliers(features)"
   ]
  },
  {
   "cell_type": "code",
   "execution_count": 5,
   "metadata": {
    "dotnet_interactive": {
     "language": "csharp"
    }
   },
   "outputs": [
    {
     "data": {
      "text/html": [
       "<table><thead><tr><th><i>index</i></th><th>Item1</th><th>Item2</th><th>Item3</th></tr></thead><tbody><tr><td>0</td><td><div class=\"dni-plaintext\"><pre>0</pre></div></td><td><div class=\"dni-plaintext\"><pre>325</pre></div></td><td><div class=\"dni-plaintext\"><pre>0.1015625</pre></div></td></tr><tr><td>1</td><td><div class=\"dni-plaintext\"><pre>1</pre></div></td><td><div class=\"dni-plaintext\"><pre>333</pre></div></td><td><div class=\"dni-plaintext\"><pre>0.1040625</pre></div></td></tr><tr><td>2</td><td><div class=\"dni-plaintext\"><pre>2</pre></div></td><td><div class=\"dni-plaintext\"><pre>319</pre></div></td><td><div class=\"dni-plaintext\"><pre>0.0996875</pre></div></td></tr><tr><td>3</td><td><div class=\"dni-plaintext\"><pre>3</pre></div></td><td><div class=\"dni-plaintext\"><pre>270</pre></div></td><td><div class=\"dni-plaintext\"><pre>0.084375</pre></div></td></tr><tr><td>4</td><td><div class=\"dni-plaintext\"><pre>4</pre></div></td><td><div class=\"dni-plaintext\"><pre>336</pre></div></td><td><div class=\"dni-plaintext\"><pre>0.105</pre></div></td></tr><tr><td>5</td><td><div class=\"dni-plaintext\"><pre>5</pre></div></td><td><div class=\"dni-plaintext\"><pre>335</pre></div></td><td><div class=\"dni-plaintext\"><pre>0.1046875</pre></div></td></tr><tr><td>6</td><td><div class=\"dni-plaintext\"><pre>6</pre></div></td><td><div class=\"dni-plaintext\"><pre>341</pre></div></td><td><div class=\"dni-plaintext\"><pre>0.1065625</pre></div></td></tr><tr><td>7</td><td><div class=\"dni-plaintext\"><pre>7</pre></div></td><td><div class=\"dni-plaintext\"><pre>304</pre></div></td><td><div class=\"dni-plaintext\"><pre>0.095</pre></div></td></tr><tr><td>8</td><td><div class=\"dni-plaintext\"><pre>8</pre></div></td><td><div class=\"dni-plaintext\"><pre>327</pre></div></td><td><div class=\"dni-plaintext\"><pre>0.1021875</pre></div></td></tr><tr><td>9</td><td><div class=\"dni-plaintext\"><pre>9</pre></div></td><td><div class=\"dni-plaintext\"><pre>310</pre></div></td><td><div class=\"dni-plaintext\"><pre>0.096875</pre></div></td></tr></tbody></table><style>\r\n",
       ".dni-code-hint {\r\n",
       "    font-style: italic;\r\n",
       "    overflow: hidden;\r\n",
       "    white-space: nowrap;\r\n",
       "}\r\n",
       ".dni-treeview {\r\n",
       "    white-space: nowrap;\r\n",
       "}\r\n",
       ".dni-treeview td {\r\n",
       "    vertical-align: top;\r\n",
       "    text-align: start;\r\n",
       "}\r\n",
       "details.dni-treeview {\r\n",
       "    padding-left: 1em;\r\n",
       "}\r\n",
       "table td {\r\n",
       "    text-align: start;\r\n",
       "}\r\n",
       "table tr { \r\n",
       "    vertical-align: top; \r\n",
       "    margin: 0em 0px;\r\n",
       "}\r\n",
       "table tr td pre \r\n",
       "{ \r\n",
       "    vertical-align: top !important; \r\n",
       "    margin: 0em 0px !important;\r\n",
       "} \r\n",
       "table th {\r\n",
       "    text-align: start;\r\n",
       "}\r\n",
       "</style>"
      ]
     },
     "metadata": {},
     "output_type": "display_data"
    }
   ],
   "source": [
    "(features, target) = CsML.Utility.Features.Shuffle(features, target);\n",
    "CsML.Utility.Features.ClassProportions<double>(target)"
   ]
  },
  {
   "cell_type": "code",
   "execution_count": 6,
   "metadata": {
    "dotnet_interactive": {
     "language": "csharp"
    }
   },
   "outputs": [
    {
     "name": "stdout",
     "output_type": "stream",
     "text": [
      "..........\n",
      "0.1062, 0.1156, 0.1031, 0.0812, 0.075, 0.0969, 0.0844, 0.0875, 0.0812, 0.125\n",
      "Average 0.095625\n"
     ]
    }
   ],
   "source": [
    "var results = new List<double>(){};\n",
    "var iter = new CsML.Utility.KFoldIterator(dataLength, 10);\n",
    "double[,] ftrain, ftest;\n",
    "double[] ttrain, ttest;\n",
    "foreach(bool[] f in iter)\n",
    "{    \n",
    "\n",
    "    Console.Write(\".\");\n",
    "    (ftrain, ftest) = CsML.Utility.Matrix.Split(features, f);\n",
    "    (ttrain, ttest) = CsML.Utility.Array.Split(target, f);\n",
    "    var rcfier = new CsML.Probability.Classification.RandomClassifier<double>();\n",
    "    rcfier.Train(ftrain, ttrain);\n",
    "    double[] predictions = rcfier.Predict(ftest);\n",
    "    results.Add(CsML.Utility.Array.ClassificationAccuracy(ttest, predictions));\n",
    "}\n",
    "var mean = results.Average();\n",
    "results = results.Select(x => Math.Round(x, 4)).ToList();\n",
    "Console.WriteLine(\"\");\n",
    "Console.WriteLine(string.Join(\", \", results.ToArray()));\n",
    "Console.WriteLine($\"Average {mean}\");"
   ]
  },
  {
   "cell_type": "code",
   "execution_count": 7,
   "metadata": {
    "dotnet_interactive": {
     "language": "csharp"
    }
   },
   "outputs": [
    {
     "name": "stdout",
     "output_type": "stream",
     "text": [
      "..........\n",
      "0.7438, 0.7469, 0.7625, 0.7375, 0.7219, 0.7, 0.7281, 0.7594, 0.7344, 0.7219\n",
      "Average 0.735625\n"
     ]
    }
   ],
   "source": [
    "results = new List<double>(){};\n",
    "iter = new CsML.Utility.KFoldIterator(dataLength, 10);\n",
    "foreach(bool[] f in iter)\n",
    "{\n",
    "    Console.Write(\".\");\n",
    "    (ftrain, ftest) = CsML.Utility.Matrix.Split(features, f);\n",
    "    (ttrain, ttest) = CsML.Utility.Array.Split(target, f);\n",
    "    var tree = new CsML.Tree.BinaryTree(\"classify\", CsML.Utility.Statistics.Gini);\n",
    "    tree.maxdepth = 15;\n",
    "    tree.minrows = 3;\n",
    "    tree.Train(ftrain, ttrain);\n",
    "    double[] predictions = tree.Predict(ftest);\n",
    "    results.Add(CsML.Utility.Array.ClassificationAccuracy(ttest, predictions));\n",
    "}\n",
    "var mean = results.Average();\n",
    "results = results.Select(x => Math.Round(x, 4)).ToList();\n",
    "Console.WriteLine(\"\");\n",
    "Console.WriteLine(string.Join(\", \", results.ToArray()));\n",
    "Console.WriteLine($\"Average {mean}\");"
   ]
  },
  {
   "cell_type": "code",
   "execution_count": 8,
   "metadata": {
    "dotnet_interactive": {
     "language": "csharp"
    }
   },
   "outputs": [
    {
     "name": "stdout",
     "output_type": "stream",
     "text": [
      "..........\n",
      "0.75, 0.7625, 0.7594, 0.7438, 0.7219, 0.7, 0.7219, 0.7625, 0.7469, 0.7438\n",
      "Average 0.7412500000000001\n"
     ]
    }
   ],
   "source": [
    "results = new List<double>(){};\n",
    "iter = new CsML.Utility.KFoldIterator(dataLength, 10);\n",
    "foreach(bool[] f in iter)\n",
    "{\n",
    "    Console.Write(\".\");\n",
    "    (ftrain, ftest) = CsML.Utility.Matrix.Split(features, f);\n",
    "    (ttrain, ttest) = CsML.Utility.Array.Split(target, f);\n",
    "    var forest = new CsML.Tree.RandomForest(\"classify\", CsML.Utility.Statistics.Gini);\n",
    "    forest.treeCount = 500;\n",
    "    forest.Train(ftrain, ttrain);\n",
    "    double[] predictions = forest.Predict(ftest);\n",
    "    results.Add(CsML.Utility.Array.ClassificationAccuracy(ttest, predictions));\n",
    "}\n",
    "var mean = results.Average();\n",
    "results = results.Select(x => Math.Round(x, 4)).ToList();\n",
    "Console.WriteLine(\"\");\n",
    "Console.WriteLine(string.Join(\", \", results.ToArray()));\n",
    "Console.WriteLine($\"Average {mean}\");"
   ]
  }
 ],
 "metadata": {
  "kernelspec": {
   "display_name": ".NET (C#)",
   "language": "C#",
   "name": ".net-csharp"
  },
  "polyglot_notebook": {
   "kernelInfo": {
    "defaultKernelName": "csharp",
    "items": [
     {
      "aliases": [
       "c#",
       "C#"
      ],
      "languageName": "C#",
      "name": "csharp"
     },
     {
      "aliases": [],
      "name": ".NET"
     },
     {
      "aliases": [
       "f#",
       "F#"
      ],
      "languageName": "F#",
      "name": "fsharp"
     },
     {
      "aliases": [],
      "languageName": "HTML",
      "name": "html"
     },
     {
      "aliases": [],
      "languageName": "KQL",
      "name": "kql"
     },
     {
      "aliases": [],
      "languageName": "Mermaid",
      "name": "mermaid"
     },
     {
      "aliases": [
       "powershell"
      ],
      "languageName": "PowerShell",
      "name": "pwsh"
     },
     {
      "aliases": [],
      "languageName": "SQL",
      "name": "sql"
     },
     {
      "aliases": [],
      "name": "value"
     },
     {
      "aliases": [
       "frontend"
      ],
      "name": "vscode"
     }
    ]
   }
  }
 },
 "nbformat": 4,
 "nbformat_minor": 2
}
