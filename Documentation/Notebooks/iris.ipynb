{
 "cells": [
  {
   "cell_type": "markdown",
   "metadata": {},
   "source": [
    "# Iris data set"
   ]
  },
  {
   "cell_type": "code",
   "execution_count": 1,
   "metadata": {
    "dotnet_interactive": {
     "language": "csharp"
    },
    "polyglot_notebook": {
     "language": "csharp"
    },
    "vscode": {
     "languageId": "dotnet-interactive.csharp"
    }
   },
   "outputs": [
    {
     "data": {
      "text/html": [
       "<div><div><strong>Restore sources</strong><ul><li><span>/Users/peet/Sources/csml/CsML/bin/Release</span></li></ul></div><div></div><div><strong>Installed Packages</strong><ul><li><span>CsML, 1.0.0</span></li></ul></div></div>"
      ]
     },
     "metadata": {},
     "output_type": "display_data"
    }
   ],
   "source": [
    "#i \"nuget:/Users/peet/Sources/csml/CsML/bin/Release\"\n",
    "// #i \"nuget:C:\\Users\\peet.vermeulen\\source\\repos\\csml\\CsML\\bin\\Release\"\n",
    "#r \"nuget:CsML,*-*\"\n",
    "using CsML;\n",
    "using CsML.Utility;\n",
    "using CsML.Probability;"
   ]
  },
  {
   "cell_type": "markdown",
   "metadata": {},
   "source": [
    "### Load the data"
   ]
  },
  {
   "cell_type": "code",
   "execution_count": 2,
   "metadata": {
    "dotnet_interactive": {
     "language": "csharp"
    },
    "vscode": {
     "languageId": "dotnet-interactive.csharp"
    }
   },
   "outputs": [],
   "source": [
    "var mapping = new Dictionary<int, Dictionary<string, double>>();\n",
    "mapping[4] = new Dictionary<string, double>\n",
    "{\n",
    "    { \"versicolor\", 0 }, {\"virginica\", 1 }, {\"setosa\", 2}\n",
    "};\n",
    "string inputPath = \"/Users/peet/Sources/csml/Tests/Data/iris.csv\";\n",
    "// string inputPath = @\"C:\\Users\\peet.vermeulen\\source\\repos\\csml\\Tests\\Data\\iris.csv\";\n",
    "double[,] data = Matrix.FromCSV(inputPath, mapping, loadFromRow: 1);"
   ]
  },
  {
   "cell_type": "markdown",
   "metadata": {},
   "source": [
    "Separate features and target columns:"
   ]
  },
  {
   "cell_type": "code",
   "execution_count": 3,
   "metadata": {
    "dotnet_interactive": {
     "language": "csharp"
    },
    "vscode": {
     "languageId": "dotnet-interactive.csharp"
    }
   },
   "outputs": [],
   "source": [
    "int dataLength = data.GetLength(0);\n",
    "double[,] features = new double[dataLength, 4];\n",
    "double[] target = new double[dataLength];\n",
    "for (int r=0; r < data.GetLength(0); r++)\n",
    "{\n",
    "    for (int c=0; c < 4; c++)\n",
    "    {\n",
    "        features[r, c] = data[r, c];\n",
    "    }\n",
    "    target[r] = data[r, 4];\n",
    "}"
   ]
  },
  {
   "cell_type": "markdown",
   "metadata": {},
   "source": [
    "### Profile data"
   ]
  },
  {
   "cell_type": "code",
   "execution_count": 4,
   "metadata": {
    "dotnet_interactive": {
     "language": "csharp"
    },
    "vscode": {
     "languageId": "dotnet-interactive.csharp"
    }
   },
   "outputs": [
    {
     "data": {
      "text/html": [
       "<table><thead><tr><th><i>index</i></th><th>Item1</th><th>Item2</th><th>Item3</th></tr></thead><tbody><tr><td>0</td><td><div class=\"dni-plaintext\">0</div></td><td><div class=\"dni-plaintext\">50</div></td><td><div class=\"dni-plaintext\">0.3333333333333333</div></td></tr><tr><td>1</td><td><div class=\"dni-plaintext\">1</div></td><td><div class=\"dni-plaintext\">50</div></td><td><div class=\"dni-plaintext\">0.3333333333333333</div></td></tr><tr><td>2</td><td><div class=\"dni-plaintext\">2</div></td><td><div class=\"dni-plaintext\">50</div></td><td><div class=\"dni-plaintext\">0.3333333333333333</div></td></tr></tbody></table>"
      ]
     },
     "metadata": {},
     "output_type": "display_data"
    }
   ],
   "source": [
    "Features.ClassProportions<double>(target)"
   ]
  },
  {
   "cell_type": "code",
   "execution_count": 5,
   "metadata": {
    "dotnet_interactive": {
     "language": "csharp"
    },
    "vscode": {
     "languageId": "dotnet-interactive.csharp"
    }
   },
   "outputs": [
    {
     "data": {
      "text/html": [
       "<div class=\"dni-plaintext\">True</div>"
      ]
     },
     "metadata": {},
     "output_type": "display_data"
    }
   ],
   "source": [
    "var profiler = new Features.Profiler(features, target);\n",
    "profiler.HasOutliers(features)"
   ]
  },
  {
   "cell_type": "code",
   "execution_count": 6,
   "metadata": {
    "dotnet_interactive": {
     "language": "csharp"
    },
    "vscode": {
     "languageId": "dotnet-interactive.csharp"
    }
   },
   "outputs": [
    {
     "data": {
      "text/html": [
       "<table><thead><tr><th><i>index</i></th><th>value</th></tr></thead><tbody><tr><td>0</td><td><div class=\"dni-plaintext\">1</div></td></tr></tbody></table>"
      ]
     },
     "metadata": {},
     "output_type": "display_data"
    }
   ],
   "source": [
    "profiler.ColumnsWithOutliers(features)"
   ]
  },
  {
   "cell_type": "code",
   "execution_count": 7,
   "metadata": {
    "dotnet_interactive": {
     "language": "csharp"
    },
    "vscode": {
     "languageId": "dotnet-interactive.csharp"
    }
   },
   "outputs": [
    {
     "data": {
      "text/html": [
       "<table><thead><tr><th><i>index</i></th><th>value</th></tr></thead><tbody><tr><td>0</td><td><div class=\"dni-plaintext\">15</div></td></tr><tr><td>1</td><td><div class=\"dni-plaintext\">32</div></td></tr><tr><td>2</td><td><div class=\"dni-plaintext\">33</div></td></tr><tr><td>3</td><td><div class=\"dni-plaintext\">60</div></td></tr></tbody></table>"
      ]
     },
     "metadata": {},
     "output_type": "display_data"
    }
   ],
   "source": [
    "profiler.OutlierIndex(Matrix.GetColumn(features, 1), 1)"
   ]
  },
  {
   "cell_type": "markdown",
   "metadata": {},
   "source": [
    "### Radom classifier"
   ]
  },
  {
   "cell_type": "code",
   "execution_count": 27,
   "metadata": {
    "dotnet_interactive": {
     "language": "csharp"
    },
    "vscode": {
     "languageId": "dotnet-interactive.csharp"
    }
   },
   "outputs": [],
   "source": [
    "(features, target) = Features.Shuffle(features, target);"
   ]
  },
  {
   "cell_type": "code",
   "execution_count": 24,
   "metadata": {
    "dotnet_interactive": {
     "language": "csharp"
    },
    "vscode": {
     "languageId": "dotnet-interactive.csharp"
    }
   },
   "outputs": [
    {
     "name": "stdout",
     "output_type": "stream",
     "text": [
      "..........\n",
      "0.2667, 0.2, 0.5333, 0.3333, 0.3333, 0.4667, 0.4, 0.2667, 0.3333, 0.3333\n",
      "Average 0.3466666666666667\n"
     ]
    }
   ],
   "source": [
    "var results = new List<double>(){};\n",
    "var iter = new KFoldIterator(dataLength, 10);\n",
    "double[,] ftrain, ftest;\n",
    "double[] ttrain, ttest;\n",
    "foreach(bool[] f in iter)\n",
    "{    \n",
    "    Console.Write(\".\");\n",
    "    (ftrain, ftest) = Matrix.Split(features, f);\n",
    "    (ttrain, ttest) = Array.Split(target, f);\n",
    "    var rcfier = new Classification.RandomClassifier<double>();\n",
    "    rcfier.Train(ftrain, ttrain);\n",
    "    double[] predictions = rcfier.Predict(ftest);\n",
    "    results.Add(Array.ClassificationAccuracy(ttest, predictions));\n",
    "}\n",
    "var mean = results.Average();\n",
    "results = results.Select(x => Math.Round(x, 4)).ToList();\n",
    "Console.WriteLine(\"\");\n",
    "Console.WriteLine(string.Join(\", \", results.ToArray()));\n",
    "Console.WriteLine($\"Average {mean}\");"
   ]
  },
  {
   "cell_type": "markdown",
   "metadata": {},
   "source": [
    "### Single decision tree"
   ]
  },
  {
   "cell_type": "code",
   "execution_count": 28,
   "metadata": {
    "dotnet_interactive": {
     "language": "csharp"
    },
    "vscode": {
     "languageId": "dotnet-interactive.csharp"
    }
   },
   "outputs": [
    {
     "name": "stdout",
     "output_type": "stream",
     "text": [
      "Fold 1: 0.3407,0.3481,0.3111 Accuracy: 0.9333\n",
      "Fold 2: 0.3407,0.3333,0.3259 Accuracy: 0.9333\n",
      "Fold 3: 0.3111,0.3481,0.3407 Accuracy: 0.7333\n",
      "Fold 4: 0.3481,0.3111,0.3407 Accuracy: 0.8667\n",
      "Fold 5: 0.3185,0.3407,0.3407 Accuracy: 1.0000\n",
      "Fold 6: 0.3259,0.3333,0.3407 Accuracy: 1.0000\n",
      "Fold 7: 0.3407,0.3407,0.3185 Accuracy: 1.0000\n",
      "Fold 8: 0.3259,0.3333,0.3407 Accuracy: 1.0000\n",
      "Fold 9: 0.3556,0.3259,0.3185 Accuracy: 1.0000\n",
      "Fold 10: 0.3259,0.3185,0.3556 Accuracy: 0.9333\n",
      "Average 0.9400\n"
     ]
    }
   ],
   "source": [
    "List<double> results = new List<double>(){};\n",
    "double[,] ftrain, ftest;\n",
    "double[] ttrain, ttest;\n",
    "var iter = new KFoldIterator(150, 10);\n",
    "int fold = 1;\n",
    "foreach(bool[] f in iter)\n",
    "{\n",
    "    Console.Write($\"Fold {fold}: \");\n",
    "    (ftrain, ftest) = Matrix.Split(features, f);\n",
    "    (ttrain, ttest) = Array.Split(target, f);\n",
    "    var props = CsML.Utility.Features.ClassProportions<double>(ttrain)\n",
    "        .Select(x => Math.Round(x.Item3, 4));\n",
    "    Console.Write(String.Join(\",\", props));\n",
    "    var tree = new CsML.Tree.BinaryTree(\"classify\", Statistics.Gini);\n",
    "    tree.maxdepth = 15;\n",
    "    tree.minrows = 3;\n",
    "    tree.Train(ftrain, ttrain);\n",
    "    double[] predictions = tree.Predict(ftest);\n",
    "    var accuracy = Array.ClassificationAccuracy(ttest, predictions);\n",
    "    Console.WriteLine($\" Accuracy: {accuracy:0.0000}\");\n",
    "    results.Add(accuracy);\n",
    "    fold++;\n",
    "}\n",
    "var mean = results.Average();\n",
    "Console.WriteLine($\"Average {mean:0.0000}\");"
   ]
  },
  {
   "cell_type": "markdown",
   "metadata": {},
   "source": [
    "### Random Forest"
   ]
  },
  {
   "cell_type": "code",
   "execution_count": 29,
   "metadata": {
    "dotnet_interactive": {
     "language": "csharp"
    },
    "vscode": {
     "languageId": "dotnet-interactive.csharp"
    }
   },
   "outputs": [
    {
     "name": "stdout",
     "output_type": "stream",
     "text": [
      "Fold 1: 0.3407,0.3481,0.3111 Accuracy: 0.9333\n",
      "Fold 2: 0.3407,0.3333,0.3259 Accuracy: 0.9333\n",
      "Fold 3: 0.3111,0.3481,0.3407 Accuracy: 0.8667\n",
      "Fold 4: 0.3481,0.3111,0.3407 Accuracy: 0.8667\n",
      "Fold 5: 0.3185,0.3407,0.3407 Accuracy: 1.0000\n",
      "Fold 6: 0.3259,0.3333,0.3407 Accuracy: 0.9333\n",
      "Fold 7: 0.3407,0.3407,0.3185 Accuracy: 1.0000\n",
      "Fold 8: 0.3259,0.3333,0.3407 Accuracy: 1.0000\n",
      "Fold 9: 0.3556,0.3259,0.3185 Accuracy: 1.0000\n",
      "Fold 10: 0.3259,0.3185,0.3556 Accuracy: 0.9333\n",
      "Average 0.9467\n"
     ]
    }
   ],
   "source": [
    "List<double> results = new List<double>(){};\n",
    "double[,] ftrain, ftest;\n",
    "double[] ttrain, ttest;\n",
    "var iter = new KFoldIterator(150, 10);\n",
    "int fold = 1;\n",
    "foreach(bool[] f in iter)\n",
    "{\n",
    "    Console.Write($\"Fold {fold}: \");\n",
    "    (ftrain, ftest) = Matrix.Split(features, f);\n",
    "    (ttrain, ttest) = Array.Split(target, f);\n",
    "    var props = CsML.Utility.Features.ClassProportions<double>(ttrain)\n",
    "        .Select(x => Math.Round(x.Item3, 4));\n",
    "    Console.Write(String.Join(\",\", props));\n",
    "    var tree = new CsML.Tree.RandomForest(\"classify\", Statistics.Gini);\n",
    "    tree.Train(ftrain, ttrain);\n",
    "    double[] predictions = tree.Predict(ftest);\n",
    "    var accuracy = Array.ClassificationAccuracy(ttest, predictions);\n",
    "    Console.WriteLine($\" Accuracy: {accuracy:0.0000}\");\n",
    "    results.Add(accuracy);\n",
    "    fold++;\n",
    "}\n",
    "var mean = results.Average();\n",
    "Console.WriteLine($\"Average {mean:0.0000}\");"
   ]
  }
 ],
 "metadata": {
  "kernelspec": {
   "display_name": ".NET (C#)",
   "language": "C#",
   "name": ".net-csharp"
  },
  "language_info": {
   "name": "C#"
  }
 },
 "nbformat": 4,
 "nbformat_minor": 2
}
